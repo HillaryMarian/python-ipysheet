{
 "cells": [
  {
   "cell_type": "markdown",
   "metadata": {},
   "source": [
    "# PYTHON SPREADSHEETS WITH IPYSHEET\n",
    "### VIEW DATA IN SPEADSHEET TABLES IN A JUPYTER NOTEBOOK ENVIRONMENT"
   ]
  },
  {
   "cell_type": "markdown",
   "metadata": {},
   "source": [
    "# NOTES\n",
    "* visit python package index and search for ipysheet\n",
    "* search web for ipysheet documentation\n",
    "* after installing ipysheet, restart everything if spreadsheet does not display"
   ]
  },
  {
   "cell_type": "markdown",
   "metadata": {},
   "source": [
    "# IMPORTS"
   ]
  },
  {
   "cell_type": "code",
   "execution_count": 1,
   "metadata": {},
   "outputs": [],
   "source": [
    "import ipysheet\n",
    "from ipysheet import calculation\n",
    "import ipywidgets\n",
    "import pandas as pd\n",
    "import numpy as np"
   ]
  },
  {
   "cell_type": "markdown",
   "metadata": {},
   "source": [
    "# CREATE BASIC SHEET"
   ]
  },
  {
   "cell_type": "code",
   "execution_count": 25,
   "metadata": {},
   "outputs": [
    {
     "data": {
      "application/vnd.jupyter.widget-view+json": {
       "model_id": "c305178b030f468fbba15f8b5886aff8",
       "version_major": 2,
       "version_minor": 0
      },
      "text/plain": [
       "Sheet(columns=5, layout=Layout(height='auto', width='auto'), rows=5)"
      ]
     },
     "metadata": {},
     "output_type": "display_data"
    }
   ],
   "source": [
    "# create sheet\n",
    "sheet = ipysheet.sheet()\n",
    "\n",
    "# display sheet\n",
    "sheet\n",
    "\n",
    "# display(sheet)"
   ]
  },
  {
   "cell_type": "markdown",
   "metadata": {},
   "source": [
    "# ENTER CELL VALUES"
   ]
  },
  {
   "cell_type": "code",
   "execution_count": 26,
   "metadata": {},
   "outputs": [
    {
     "data": {
      "application/vnd.jupyter.widget-view+json": {
       "model_id": "74f271aac8a448f6b199d6145de7ab0b",
       "version_major": 2,
       "version_minor": 0
      },
      "text/plain": [
       "Sheet(cells=(Cell(column_end=0, column_start=0, row_end=0, row_start=0, style={'color': 'blue'}, type='text', …"
      ]
     },
     "metadata": {},
     "output_type": "display_data"
    }
   ],
   "source": [
    "# create sheet\n",
    "sheet = ipysheet.sheet(rows=5, columns=5)\n",
    "\n",
    "# enter cell text with text color\n",
    "cell1 = ipysheet.cell(row=0, column=0, value='Hello', color='blue')\n",
    "\n",
    "# enter cell numbers with background color\n",
    "cell2 = ipysheet.cell(row=1, column=0, value=1+1, background_color='yellow')\n",
    "\n",
    "# checkbox\n",
    "cell3 = ipysheet.cell(row=2, column=0, value=True)\n",
    "\n",
    "# display sheet\n",
    "sheet"
   ]
  },
  {
   "cell_type": "code",
   "execution_count": 29,
   "metadata": {},
   "outputs": [
    {
     "data": {
      "application/vnd.jupyter.widget-view+json": {
       "model_id": "f33573f3d9664f07af2cbd22572e6f8c",
       "version_major": 2,
       "version_minor": 0
      },
      "text/plain": [
       "Sheet(cells=(Cell(column_end=0, column_start=0, row_end=9, row_start=0, squeeze_row=False, type='numeric', val…"
      ]
     },
     "metadata": {},
     "output_type": "display_data"
    }
   ],
   "source": [
    "# fill column with values\n",
    "# cells can be sorted\n",
    "# can add formatting as well (examples-background_color, etc.)\n",
    "\n",
    "# create sheet\n",
    "sheet = ipysheet.sheet(rows=10, columns=5)\n",
    "\n",
    "# fill column with values\n",
    "column = ipysheet.column(column=0, value=np.random.rand(10)*10, row_start=0)\n",
    "\n",
    "# display sheet\n",
    "sheet"
   ]
  },
  {
   "cell_type": "code",
   "execution_count": 5,
   "metadata": {},
   "outputs": [
    {
     "data": {
      "application/vnd.jupyter.widget-view+json": {
       "model_id": "0bf3055b9f8040e1a5f37abec4f9ee23",
       "version_major": 2,
       "version_minor": 0
      },
      "text/plain": [
       "Sheet(cells=(Cell(column_start=0, row_end=1, row_start=1, squeeze_column=False, type='text', value=['1', '2', …"
      ]
     },
     "metadata": {},
     "output_type": "display_data"
    }
   ],
   "source": [
    "# fill row with values\n",
    "\n",
    "# create sheet\n",
    "sheet = ipysheet.sheet(rows=5, columns=5)\n",
    "\n",
    "# fill row with values\n",
    "row = ipysheet.row(row=1, value=list('12345'))\n",
    "\n",
    "# display sheet\n",
    "sheet"
   ]
  },
  {
   "cell_type": "code",
   "execution_count": 6,
   "metadata": {},
   "outputs": [
    {
     "data": {
      "application/vnd.jupyter.widget-view+json": {
       "model_id": "9dbf85e66cdf443c8e6368f5d5cfb87f",
       "version_major": 2,
       "version_minor": 0
      },
      "text/plain": [
       "Sheet(cells=(Cell(column_end=2, column_start=1, row_start=1, squeeze_column=False, squeeze_row=False, style={'…"
      ]
     },
     "metadata": {},
     "output_type": "display_data"
    }
   ],
   "source": [
    "# fill cells using cell_range\n",
    "sheet = ipysheet.sheet(rows=5, columns=5)\n",
    "cells = ipysheet.cell_range([['A', 'B'], \n",
    "                             ['C', 'D'], \n",
    "                             ['E', 'E']],\n",
    "                            row_start=1, \n",
    "                            column_start=1,\n",
    "                            background_color='yellow')\n",
    "sheet"
   ]
  },
  {
   "cell_type": "code",
   "execution_count": 30,
   "metadata": {},
   "outputs": [
    {
     "data": {
      "application/vnd.jupyter.widget-view+json": {
       "model_id": "a760279351bb48d3ad496978cc4bd392",
       "version_major": 2,
       "version_minor": 0
      },
      "text/plain": [
       "Sheet(cells=(Cell(choice=[], column_end=0, column_start=0, numeric_format=None, row_end=9, row_start=0, squeez…"
      ]
     },
     "metadata": {},
     "output_type": "display_data"
    }
   ],
   "source": [
    "# fill cells using dataframe\n",
    "date_range = pd.date_range(start='1-1-16', end='1-10-16')\n",
    "df = pd.DataFrame({'Dates': date_range,\n",
    "                   'A': [5]*10,\n",
    "                   'B': np.random.rand(10)})\n",
    "\n",
    "sheet = ipysheet.from_dataframe(df)\n",
    "sheet"
   ]
  },
  {
   "cell_type": "code",
   "execution_count": 8,
   "metadata": {},
   "outputs": [],
   "source": [
    "# dataframe to excel\n",
    "df_to_excel = ipysheet.to_dataframe(sheet)\n",
    "\n",
    "# change to your path\n",
    "# df_to_excel.to_excel('path/df_to_excel.xlsx')"
   ]
  },
  {
   "cell_type": "markdown",
   "metadata": {},
   "source": [
    "# BASIC CALCULATION"
   ]
  },
  {
   "cell_type": "code",
   "execution_count": 9,
   "metadata": {},
   "outputs": [
    {
     "data": {
      "application/vnd.jupyter.widget-view+json": {
       "model_id": "2d07cae5b675434e8dbb1e93f1a71164",
       "version_major": 2,
       "version_minor": 0
      },
      "text/plain": [
       "Sheet(cells=(Cell(column_end=0, column_start=0, row_end=0, row_start=0, type='numeric', value=5), Cell(column_…"
      ]
     },
     "metadata": {},
     "output_type": "display_data"
    }
   ],
   "source": [
    "# sum values\n",
    "\n",
    "# create sheet\n",
    "sheet = ipysheet.sheet()\n",
    "\n",
    "# create cells with values\n",
    "# cell3 value uses sum()\n",
    "cell1 = ipysheet.cell(row=0, column=0, value=5)\n",
    "cell2 = ipysheet.cell(row=1, column=0, value=15)\n",
    "cell3 = ipysheet.cell(row=2, column=0, value=sum([cell1.value, cell2.value]))\n",
    "\n",
    "# display sheet\n",
    "sheet"
   ]
  },
  {
   "cell_type": "code",
   "execution_count": 31,
   "metadata": {},
   "outputs": [
    {
     "data": {
      "application/vnd.jupyter.widget-view+json": {
       "model_id": "b71ddcbf5d3846f0b72326d064f79dc1",
       "version_major": 2,
       "version_minor": 0
      },
      "text/plain": [
       "Sheet(cells=(Cell(column_end=1, column_start=1, row_end=0, row_start=0, type='numeric', value=0), Cell(column_…"
      ]
     },
     "metadata": {},
     "output_type": "display_data"
    }
   ],
   "source": [
    "# sum values and observe changes to update sum\n",
    "\n",
    "# create sheet\n",
    "sheet = ipysheet.sheet()\n",
    "\n",
    "# create cells with values\n",
    "cell1 = ipysheet.cell(row=0, column=1, value=0, label_left='a')\n",
    "cell2 = ipysheet.cell(row=1, column=1, value=0, label_left='b')\n",
    "cell3 = ipysheet.cell(row=2, column=1, value=0, label_left='sum')\n",
    "\n",
    "# update function\n",
    "def update(change):\n",
    "    cell3.value = cell1.value + cell2.value\n",
    "    \n",
    "# observe\n",
    "cell1.observe(update, 'value')\n",
    "cell2.observe(update, 'value')\n",
    "\n",
    "# display sheet\n",
    "sheet"
   ]
  },
  {
   "cell_type": "markdown",
   "metadata": {},
   "source": [
    "# WIDGETS INSIDE CELLS\n",
    "other examples include: fill cells with charts (bqplot, etc.)"
   ]
  },
  {
   "cell_type": "code",
   "execution_count": 22,
   "metadata": {},
   "outputs": [
    {
     "data": {
      "application/vnd.jupyter.widget-view+json": {
       "model_id": "d00ad3f3a49e4e34bff6f70667b76be5",
       "version_major": 2,
       "version_minor": 0
      },
      "text/plain": [
       "Sheet(cells=(Cell(column_end=0, column_start=0, row_end=4, row_start=0, squeeze_row=False, type='widget', valu…"
      ]
     },
     "metadata": {},
     "output_type": "display_data"
    }
   ],
   "source": [
    "# create sheet\n",
    "sheet = ipysheet.sheet(columns=2)\n",
    "\n",
    "# fill column with widgets\n",
    "column1 = ipysheet.column(column=0, value=[ipywidgets.IntSlider(min=0, max=10) for _ in range(5)])\n",
    "\n",
    "# display sheet\n",
    "sheet"
   ]
  },
  {
   "cell_type": "code",
   "execution_count": 12,
   "metadata": {},
   "outputs": [
    {
     "data": {
      "application/vnd.jupyter.widget-view+json": {
       "model_id": "8a7adcf2875f413abf06eec128ec225e",
       "version_major": 2,
       "version_minor": 0
      },
      "text/plain": [
       "IntSlider(value=0, max=10)"
      ]
     },
     "metadata": {},
     "output_type": "display_data"
    }
   ],
   "source": [
    "column1.value[0]"
   ]
  },
  {
   "cell_type": "markdown",
   "metadata": {},
   "source": [
    "# LINK WIDGET TO CELL"
   ]
  },
  {
   "cell_type": "code",
   "execution_count": 32,
   "metadata": {},
   "outputs": [
    {
     "data": {
      "application/vnd.jupyter.widget-view+json": {
       "model_id": "7c8274e5697543c4bf217ec3fd651e92",
       "version_major": 2,
       "version_minor": 0
      },
      "text/plain": [
       "VBox(children=(Sheet(cells=(Cell(column_end=0, column_start=0, row_end=0, row_start=0, type='numeric', value=5…"
      ]
     },
     "metadata": {},
     "output_type": "display_data"
    }
   ],
   "source": [
    "# create sheet\n",
    "sheet = ipysheet.sheet(rows=5, columns=5)\n",
    "\n",
    "# create cells with values\n",
    "cell1 = ipysheet.cell(row=0, column=0, value=5)\n",
    "\n",
    "# create slider widget and link to cell\n",
    "slider = ipywidgets.IntSlider(min=0, max=10, description='A1 value')\n",
    "ipywidgets.jslink((cell1, 'value'), (slider, 'value'))\n",
    "\n",
    "# display sheet and widget\n",
    "ipywidgets.VBox([sheet, slider])"
   ]
  },
  {
   "cell_type": "markdown",
   "metadata": {},
   "source": [
    "# CALCULATION WITH WIDGET"
   ]
  },
  {
   "cell_type": "code",
   "execution_count": 34,
   "metadata": {},
   "outputs": [
    {
     "data": {
      "application/vnd.jupyter.widget-view+json": {
       "model_id": "deca766cbc8f4130829250c56ba103fd",
       "version_major": 2,
       "version_minor": 0
      },
      "text/plain": [
       "VBox(children=(Dropdown(description='operation:', options=('add', 'subtract', 'multiply', 'divide'), value='ad…"
      ]
     },
     "metadata": {},
     "output_type": "display_data"
    }
   ],
   "source": [
    "# dropdown widget\n",
    "drop_down = ipywidgets.Dropdown(options=['add', 'subtract', 'multiply', 'divide'],\n",
    "                                value='add',\n",
    "                                description='operation:',\n",
    "                                disabled=False)\n",
    "\n",
    "# create sheet\n",
    "sheet = ipysheet.sheet()\n",
    "\n",
    "# create cells with values\n",
    "cell1 = ipysheet.cell(row=0, column=1, value=100, label_left='cell1')\n",
    "cell2 = ipysheet.cell(row=1, column=1, value=10, label_left='cell2')\n",
    "cell3 = ipysheet.cell(row=2, column=1, value=0, label_left='sum')\n",
    "\n",
    "# create slider widget and link to cell\n",
    "slider = ipywidgets.IntSlider(min=0, max=100, step=10, description='slider value')\n",
    "ipywidgets.jslink((cell1, 'value'), (slider, 'value'))\n",
    "\n",
    "# calculation decorator that assigns to output cell a calculation depending on the inputs\n",
    "# function to calculate output\n",
    "@calculation(inputs=[cell1, cell2, drop_down], output=cell3)\n",
    "def calculate(a, b, operator=drop_down.value):\n",
    "    answer = 0\n",
    "    if operator == 'add': answer = a + b\n",
    "    elif operator == 'subtract': answer = a - b\n",
    "    elif operator == 'multiply': answer = a * b\n",
    "    elif operator == 'divide': answer = a / b\n",
    "    return answer\n",
    "\n",
    "# display sheet and widget\n",
    "ipywidgets.VBox([drop_down, sheet, slider])"
   ]
  },
  {
   "cell_type": "markdown",
   "metadata": {},
   "source": [
    "# CONDITIONAL FORMATTING"
   ]
  },
  {
   "cell_type": "code",
   "execution_count": 35,
   "metadata": {
    "scrolled": true
   },
   "outputs": [
    {
     "data": {
      "application/vnd.jupyter.widget-view+json": {
       "model_id": "c99e1b8f6b5a46198bede5224063c84e",
       "version_major": 2,
       "version_minor": 0
      },
      "text/plain": [
       "Sheet(cells=(Cell(column_end=0, column_start=0, renderer='negative_orange', row_end=9, row_start=0, squeeze_ro…"
      ]
     },
     "metadata": {},
     "output_type": "display_data"
    }
   ],
   "source": [
    "# function for formatting\n",
    "def format_cells(value):\n",
    "    return {'backgroundColor': 'orange' if value < 0 else ''}\n",
    "\n",
    "# create renderer\n",
    "ipysheet.renderer(code=format_cells, name='negative_orange')\n",
    "\n",
    "# create sheet\n",
    "sheet = ipysheet.sheet(rows=10, columns=5)\n",
    "\n",
    "# fill column with values with conditional formatting\n",
    "values = [-1, 2, 5, 8, 9, -5, 0, 9, -3, 3]\n",
    "column = ipysheet.column(column=0, value=values, row_start=0, renderer='negative_orange')\n",
    "\n",
    "# display sheet\n",
    "sheet"
   ]
  }
 ],
 "metadata": {
  "kernelspec": {
   "display_name": "Python 3",
   "language": "python",
   "name": "python3"
  },
  "language_info": {
   "codemirror_mode": {
    "name": "ipython",
    "version": 3
   },
   "file_extension": ".py",
   "mimetype": "text/x-python",
   "name": "python",
   "nbconvert_exporter": "python",
   "pygments_lexer": "ipython3",
   "version": "3.7.6"
  },
  "varInspector": {
   "cols": {
    "lenName": 16,
    "lenType": 16,
    "lenVar": 40
   },
   "kernels_config": {
    "python": {
     "delete_cmd_postfix": "",
     "delete_cmd_prefix": "del ",
     "library": "var_list.py",
     "varRefreshCmd": "print(var_dic_list())"
    },
    "r": {
     "delete_cmd_postfix": ") ",
     "delete_cmd_prefix": "rm(",
     "library": "var_list.r",
     "varRefreshCmd": "cat(var_dic_list()) "
    }
   },
   "types_to_exclude": [
    "module",
    "function",
    "builtin_function_or_method",
    "instance",
    "_Feature"
   ],
   "window_display": false
  }
 },
 "nbformat": 4,
 "nbformat_minor": 4
}
